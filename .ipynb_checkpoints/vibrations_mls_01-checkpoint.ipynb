{
 "cells": [
  {
   "cell_type": "code",
   "execution_count": 1,
   "metadata": {},
   "outputs": [],
   "source": [
    "import matplotlib.pyplot as plt\n",
    "import numpy as np\n",
    "import h5py\n",
    "import pandas as pd"
   ]
  },
  {
   "cell_type": "code",
   "execution_count": 2,
   "metadata": {},
   "outputs": [
    {
     "name": "stdout",
     "output_type": "stream",
     "text": [
      "Expected BPFO first frequency 102.81206399999999 Hz\n",
      "Expected BPFO harmonic frequencies [ 102.812064  205.624128  308.436192  411.248256  514.06032   616.872384\n",
      "  719.684448  822.496512  925.308576 1028.12064  1130.932704 1233.744768\n",
      " 1336.556832 1439.368896 1542.18096  1644.993024 1747.805088 1850.617152\n",
      " 1953.429216 2056.24128 ] Hz\n"
     ]
    }
   ],
   "source": [
    "# Sample frequency\n",
    "f_sample = 12000\n",
    "\n",
    "# Axis rotation frequency\n",
    "f_rotation = 28.68\n",
    "\n",
    "bpfo_multiplier = 3.5848\n",
    "\n",
    "f_bpfo = f_rotation * bpfo_multiplier\n",
    "\n",
    "print(\"Expected BPFO first frequency \" + str(f_bpfo) + \" Hz\")\n",
    "\n",
    "f_bpfo_harmonics = f_bpfo*(1+np.arange(20))\n",
    "\n",
    "print(\"Expected BPFO harmonic frequencies \" + str(f_bpfo_harmonics) + \" Hz\")"
   ]
  },
  {
   "cell_type": "code",
   "execution_count": 3,
   "metadata": {},
   "outputs": [],
   "source": [
    "hf = h5py.File(\"x_baseline.h5\", \"r\")\n",
    "x_baseline = np.array(hf.get(\"x_baseline\"))\n",
    "\n",
    "hf = h5py.File(\"x_fault.h5\", \"r\")\n",
    "x_fault = np.array(hf.get(\"x_fault\"))\n",
    "\n",
    "df_baseline = pd.DataFrame(x_baseline)\n",
    "df_fault = pd.DataFrame(x_fault)"
   ]
  },
  {
   "cell_type": "code",
   "execution_count": 5,
   "metadata": {},
   "outputs": [
    {
     "data": {
      "text/plain": [
       "[<matplotlib.lines.Line2D at 0x1200412d0>]"
      ]
     },
     "execution_count": 5,
     "metadata": {},
     "output_type": "execute_result"
    }
   ],
   "source": [
    "%matplotlib qt\n",
    "\n",
    "plt.figure(1, figsize=(18,5))\n",
    "plt.subplot(1,3,1)\n",
    "plt.title('Baseline Singal Sample')\n",
    "plt.plot(df_baseline.loc[0])\n",
    "plt.subplot(1,3,2)\n",
    "plt.title('Faulty Piece Signal Sample')\n",
    "plt.plot(df_fault.loc[0],color='orange')\n",
    "plt.subplot(1,3,3)\n",
    "plt.title('Comparison')\n",
    "plt.plot(df_baseline.loc[0])\n",
    "plt.plot(df_fault.loc[0])"
   ]
  },
  {
   "cell_type": "code",
   "execution_count": 6,
   "metadata": {},
   "outputs": [],
   "source": [
    "plt.figure(2, figsize=(25,7))\n",
    "for i in range(0,10):\n",
    "    plt.subplot(2,5,i+1)\n",
    "    plt.title('Comparison '+str(i))\n",
    "    plt.plot(df_baseline.loc[i])\n",
    "    plt.plot(df_fault.loc[i])"
   ]
  },
  {
   "cell_type": "code",
   "execution_count": 7,
   "metadata": {},
   "outputs": [],
   "source": [
    "freqs = np.fft.fftfreq(f_sample,1)\n",
    "mask = freqs > 0\n",
    "freqs_pos = freqs[mask]\n",
    "\n",
    "fft_vals = np.fft.fft(df_baseline)\n",
    "fft_theo = 2.0*np.abs(fft_vals/f_sample)\n",
    "fft_vals1 = np.fft.fft(df_fault)\n",
    "fft_theo1 = 2.0*np.abs(fft_vals1/f_sample)\n",
    "\n",
    "df_fft_base = pd.DataFrame(fft_theo)\n",
    "df_fft_fault = pd.DataFrame(fft_theo1)"
   ]
  },
  {
   "cell_type": "code",
   "execution_count": 8,
   "metadata": {},
   "outputs": [
    {
     "data": {
      "text/plain": [
       "[<matplotlib.lines.Line2D at 0x11ff05d90>]"
      ]
     },
     "execution_count": 8,
     "metadata": {},
     "output_type": "execute_result"
    }
   ],
   "source": [
    "plt.figure(2,figsize=(18,5))\n",
    "plt.subplot(1,3,1)\n",
    "plt.title('Baseline Frequencies')\n",
    "plt.plot(freqs_pos, df_fft_base.loc[0][mask])\n",
    "plt.subplot(1,3,2)\n",
    "plt.title('Faulty Piece Frequencies')\n",
    "plt.plot(freqs_pos, df_fft_fault.loc[0][mask], color='orange')\n",
    "plt.subplot(1,3,3)\n",
    "plt.title('Comparison')\n",
    "plt.plot(freqs_pos, df_fft_base.loc[0][mask])\n",
    "plt.plot(freqs_pos, df_fft_fault.loc[0][mask])"
   ]
  },
  {
   "cell_type": "code",
   "execution_count": 52,
   "metadata": {},
   "outputs": [],
   "source": [
    "plt.figure(3,figsize=(25,13))\n",
    "for i in range(0,10):\n",
    "    plt.subplot(2,5,i+1)\n",
    "    plt.title('Sample '+str(i))\n",
    "    plt.plot(freqs_pos, df_fft_base.loc[i][mask])\n",
    "    plt.plot(freqs_pos, df_fft_fault.loc[i][mask])"
   ]
  },
  {
   "cell_type": "code",
   "execution_count": 53,
   "metadata": {},
   "outputs": [],
   "source": [
    "# using 0.175 as the lower bound for BPFO and 0.39 as upper bound to get BPFO from first faulty sample\n",
    "dict_a = dict(zip(freqs_pos, df_fft_fault.loc[0][mask]))\n",
    "for key in dict_a.keys():\n",
    "    if (key > 0.39 or key <=0.182):\n",
    "        dict_a[key] = 0\n",
    "    "
   ]
  },
  {
   "cell_type": "code",
   "execution_count": 54,
   "metadata": {},
   "outputs": [],
   "source": [
    "freqs=[]\n",
    "amps=[]\n",
    "for key, value in dict_a.items():\n",
    "    freqs.append(key)\n",
    "    amps.append(value)"
   ]
  },
  {
   "cell_type": "code",
   "execution_count": 55,
   "metadata": {},
   "outputs": [
    {
     "data": {
      "text/plain": [
       "[<matplotlib.lines.Line2D at 0x263841aecc8>]"
      ]
     },
     "execution_count": 55,
     "metadata": {},
     "output_type": "execute_result"
    }
   ],
   "source": [
    "plt.figure()\n",
    "plt.title('Isolated BPFO')\n",
    "plt.plot(freqs, amps, color='orange',)"
   ]
  }
 ],
 "metadata": {
  "kernelspec": {
   "display_name": "Python 3",
   "language": "python",
   "name": "python3"
  },
  "language_info": {
   "codemirror_mode": {
    "name": "ipython",
    "version": 3
   },
   "file_extension": ".py",
   "mimetype": "text/x-python",
   "name": "python",
   "nbconvert_exporter": "python",
   "pygments_lexer": "ipython3",
   "version": "3.7.4"
  },
  "toc": {
   "base_numbering": 1,
   "nav_menu": {},
   "number_sections": true,
   "sideBar": true,
   "skip_h1_title": false,
   "title_cell": "Table of Contents",
   "title_sidebar": "Contents",
   "toc_cell": false,
   "toc_position": {},
   "toc_section_display": true,
   "toc_window_display": false
  }
 },
 "nbformat": 4,
 "nbformat_minor": 2
}
